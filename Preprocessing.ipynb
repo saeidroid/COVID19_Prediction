{
 "cells": [
  {
   "cell_type": "code",
   "execution_count": 1,
   "metadata": {
    "scrolled": true
   },
   "outputs": [],
   "source": [
    "import pandas as pd\n",
    "import matplotlib.pyplot as plt\n",
    "from scipy.stats import ttest_rel"
   ]
  },
  {
   "cell_type": "code",
   "execution_count": 2,
   "metadata": {},
   "outputs": [],
   "source": [
    "df = pd.read_csv('SARS-CoV-2 Dataset.csv')"
   ]
  },
  {
   "cell_type": "markdown",
   "metadata": {},
   "source": [
    "# 1."
   ]
  },
  {
   "cell_type": "code",
   "execution_count": 3,
   "metadata": {},
   "outputs": [
    {
     "data": {
      "text/html": [
       "<div>\n",
       "<style scoped>\n",
       "    .dataframe tbody tr th:only-of-type {\n",
       "        vertical-align: middle;\n",
       "    }\n",
       "\n",
       "    .dataframe tbody tr th {\n",
       "        vertical-align: top;\n",
       "    }\n",
       "\n",
       "    .dataframe thead th {\n",
       "        text-align: right;\n",
       "    }\n",
       "</style>\n",
       "<table border=\"1\" class=\"dataframe\">\n",
       "  <thead>\n",
       "    <tr style=\"text-align: right;\">\n",
       "      <th></th>\n",
       "      <th>continent</th>\n",
       "      <th>location</th>\n",
       "      <th>date</th>\n",
       "      <th>total_cases</th>\n",
       "      <th>total_deaths</th>\n",
       "      <th>total_vaccinations</th>\n",
       "      <th>people_vaccinated</th>\n",
       "      <th>people_fully_vaccinated</th>\n",
       "      <th>population</th>\n",
       "    </tr>\n",
       "  </thead>\n",
       "  <tbody>\n",
       "    <tr>\n",
       "      <th>0</th>\n",
       "      <td>Asia</td>\n",
       "      <td>Afghanistan</td>\n",
       "      <td>2/24/2020</td>\n",
       "      <td>5.0</td>\n",
       "      <td>NaN</td>\n",
       "      <td>NaN</td>\n",
       "      <td>NaN</td>\n",
       "      <td>NaN</td>\n",
       "      <td>39835428.0</td>\n",
       "    </tr>\n",
       "    <tr>\n",
       "      <th>1</th>\n",
       "      <td>Asia</td>\n",
       "      <td>Afghanistan</td>\n",
       "      <td>2/25/2020</td>\n",
       "      <td>5.0</td>\n",
       "      <td>NaN</td>\n",
       "      <td>NaN</td>\n",
       "      <td>NaN</td>\n",
       "      <td>NaN</td>\n",
       "      <td>39835428.0</td>\n",
       "    </tr>\n",
       "    <tr>\n",
       "      <th>2</th>\n",
       "      <td>Asia</td>\n",
       "      <td>Afghanistan</td>\n",
       "      <td>2/26/2020</td>\n",
       "      <td>5.0</td>\n",
       "      <td>NaN</td>\n",
       "      <td>NaN</td>\n",
       "      <td>NaN</td>\n",
       "      <td>NaN</td>\n",
       "      <td>39835428.0</td>\n",
       "    </tr>\n",
       "    <tr>\n",
       "      <th>3</th>\n",
       "      <td>Asia</td>\n",
       "      <td>Afghanistan</td>\n",
       "      <td>2/27/2020</td>\n",
       "      <td>5.0</td>\n",
       "      <td>NaN</td>\n",
       "      <td>NaN</td>\n",
       "      <td>NaN</td>\n",
       "      <td>NaN</td>\n",
       "      <td>39835428.0</td>\n",
       "    </tr>\n",
       "    <tr>\n",
       "      <th>4</th>\n",
       "      <td>Asia</td>\n",
       "      <td>Afghanistan</td>\n",
       "      <td>2/28/2020</td>\n",
       "      <td>5.0</td>\n",
       "      <td>NaN</td>\n",
       "      <td>NaN</td>\n",
       "      <td>NaN</td>\n",
       "      <td>NaN</td>\n",
       "      <td>39835428.0</td>\n",
       "    </tr>\n",
       "    <tr>\n",
       "      <th>...</th>\n",
       "      <td>...</td>\n",
       "      <td>...</td>\n",
       "      <td>...</td>\n",
       "      <td>...</td>\n",
       "      <td>...</td>\n",
       "      <td>...</td>\n",
       "      <td>...</td>\n",
       "      <td>...</td>\n",
       "      <td>...</td>\n",
       "    </tr>\n",
       "    <tr>\n",
       "      <th>121948</th>\n",
       "      <td>Africa</td>\n",
       "      <td>Zimbabwe</td>\n",
       "      <td>10/3/2021</td>\n",
       "      <td>131129.0</td>\n",
       "      <td>4627.0</td>\n",
       "      <td>5424753.0</td>\n",
       "      <td>3111495.0</td>\n",
       "      <td>2313258.0</td>\n",
       "      <td>15092171.0</td>\n",
       "    </tr>\n",
       "    <tr>\n",
       "      <th>121949</th>\n",
       "      <td>Africa</td>\n",
       "      <td>Zimbabwe</td>\n",
       "      <td>10/4/2021</td>\n",
       "      <td>131129.0</td>\n",
       "      <td>4627.0</td>\n",
       "      <td>5441379.0</td>\n",
       "      <td>3117596.0</td>\n",
       "      <td>2323783.0</td>\n",
       "      <td>15092171.0</td>\n",
       "    </tr>\n",
       "    <tr>\n",
       "      <th>121950</th>\n",
       "      <td>Africa</td>\n",
       "      <td>Zimbabwe</td>\n",
       "      <td>10/5/2021</td>\n",
       "      <td>131205.0</td>\n",
       "      <td>4627.0</td>\n",
       "      <td>5472485.0</td>\n",
       "      <td>3128598.0</td>\n",
       "      <td>2343887.0</td>\n",
       "      <td>15092171.0</td>\n",
       "    </tr>\n",
       "    <tr>\n",
       "      <th>121951</th>\n",
       "      <td>Africa</td>\n",
       "      <td>Zimbabwe</td>\n",
       "      <td>10/6/2021</td>\n",
       "      <td>131434.0</td>\n",
       "      <td>4630.0</td>\n",
       "      <td>5499530.0</td>\n",
       "      <td>3140386.0</td>\n",
       "      <td>2359144.0</td>\n",
       "      <td>15092171.0</td>\n",
       "    </tr>\n",
       "    <tr>\n",
       "      <th>121952</th>\n",
       "      <td>Africa</td>\n",
       "      <td>Zimbabwe</td>\n",
       "      <td>10/7/2021</td>\n",
       "      <td>131523.0</td>\n",
       "      <td>4631.0</td>\n",
       "      <td>5527583.0</td>\n",
       "      <td>3152617.0</td>\n",
       "      <td>2374966.0</td>\n",
       "      <td>15092171.0</td>\n",
       "    </tr>\n",
       "  </tbody>\n",
       "</table>\n",
       "<p>121953 rows × 9 columns</p>\n",
       "</div>"
      ],
      "text/plain": [
       "       continent     location       date  total_cases  total_deaths  \\\n",
       "0           Asia  Afghanistan  2/24/2020          5.0           NaN   \n",
       "1           Asia  Afghanistan  2/25/2020          5.0           NaN   \n",
       "2           Asia  Afghanistan  2/26/2020          5.0           NaN   \n",
       "3           Asia  Afghanistan  2/27/2020          5.0           NaN   \n",
       "4           Asia  Afghanistan  2/28/2020          5.0           NaN   \n",
       "...          ...          ...        ...          ...           ...   \n",
       "121948    Africa     Zimbabwe  10/3/2021     131129.0        4627.0   \n",
       "121949    Africa     Zimbabwe  10/4/2021     131129.0        4627.0   \n",
       "121950    Africa     Zimbabwe  10/5/2021     131205.0        4627.0   \n",
       "121951    Africa     Zimbabwe  10/6/2021     131434.0        4630.0   \n",
       "121952    Africa     Zimbabwe  10/7/2021     131523.0        4631.0   \n",
       "\n",
       "        total_vaccinations  people_vaccinated  people_fully_vaccinated  \\\n",
       "0                      NaN                NaN                      NaN   \n",
       "1                      NaN                NaN                      NaN   \n",
       "2                      NaN                NaN                      NaN   \n",
       "3                      NaN                NaN                      NaN   \n",
       "4                      NaN                NaN                      NaN   \n",
       "...                    ...                ...                      ...   \n",
       "121948           5424753.0          3111495.0                2313258.0   \n",
       "121949           5441379.0          3117596.0                2323783.0   \n",
       "121950           5472485.0          3128598.0                2343887.0   \n",
       "121951           5499530.0          3140386.0                2359144.0   \n",
       "121952           5527583.0          3152617.0                2374966.0   \n",
       "\n",
       "        population  \n",
       "0       39835428.0  \n",
       "1       39835428.0  \n",
       "2       39835428.0  \n",
       "3       39835428.0  \n",
       "4       39835428.0  \n",
       "...            ...  \n",
       "121948  15092171.0  \n",
       "121949  15092171.0  \n",
       "121950  15092171.0  \n",
       "121951  15092171.0  \n",
       "121952  15092171.0  \n",
       "\n",
       "[121953 rows x 9 columns]"
      ]
     },
     "execution_count": 3,
     "metadata": {},
     "output_type": "execute_result"
    }
   ],
   "source": [
    "df"
   ]
  },
  {
   "cell_type": "code",
   "execution_count": 4,
   "metadata": {},
   "outputs": [],
   "source": [
    "sub_df = df[['location', 'total_vaccinations', 'people_vaccinated', 'people_fully_vaccinated']]\n",
    "sub_df = sub_df.fillna(0)"
   ]
  },
  {
   "cell_type": "code",
   "execution_count": 5,
   "metadata": {},
   "outputs": [
    {
     "data": {
      "text/html": [
       "<div>\n",
       "<style scoped>\n",
       "    .dataframe tbody tr th:only-of-type {\n",
       "        vertical-align: middle;\n",
       "    }\n",
       "\n",
       "    .dataframe tbody tr th {\n",
       "        vertical-align: top;\n",
       "    }\n",
       "\n",
       "    .dataframe thead th {\n",
       "        text-align: right;\n",
       "    }\n",
       "</style>\n",
       "<table border=\"1\" class=\"dataframe\">\n",
       "  <thead>\n",
       "    <tr style=\"text-align: right;\">\n",
       "      <th></th>\n",
       "      <th>location</th>\n",
       "      <th>total_vaccinations</th>\n",
       "      <th>people_vaccinated</th>\n",
       "      <th>people_fully_vaccinated</th>\n",
       "    </tr>\n",
       "  </thead>\n",
       "  <tbody>\n",
       "    <tr>\n",
       "      <th>0</th>\n",
       "      <td>Afghanistan</td>\n",
       "      <td>0.0</td>\n",
       "      <td>0.0</td>\n",
       "      <td>0.0</td>\n",
       "    </tr>\n",
       "    <tr>\n",
       "      <th>1</th>\n",
       "      <td>Afghanistan</td>\n",
       "      <td>0.0</td>\n",
       "      <td>0.0</td>\n",
       "      <td>0.0</td>\n",
       "    </tr>\n",
       "    <tr>\n",
       "      <th>2</th>\n",
       "      <td>Afghanistan</td>\n",
       "      <td>0.0</td>\n",
       "      <td>0.0</td>\n",
       "      <td>0.0</td>\n",
       "    </tr>\n",
       "    <tr>\n",
       "      <th>3</th>\n",
       "      <td>Afghanistan</td>\n",
       "      <td>0.0</td>\n",
       "      <td>0.0</td>\n",
       "      <td>0.0</td>\n",
       "    </tr>\n",
       "    <tr>\n",
       "      <th>4</th>\n",
       "      <td>Afghanistan</td>\n",
       "      <td>0.0</td>\n",
       "      <td>0.0</td>\n",
       "      <td>0.0</td>\n",
       "    </tr>\n",
       "    <tr>\n",
       "      <th>...</th>\n",
       "      <td>...</td>\n",
       "      <td>...</td>\n",
       "      <td>...</td>\n",
       "      <td>...</td>\n",
       "    </tr>\n",
       "    <tr>\n",
       "      <th>121948</th>\n",
       "      <td>Zimbabwe</td>\n",
       "      <td>5424753.0</td>\n",
       "      <td>3111495.0</td>\n",
       "      <td>2313258.0</td>\n",
       "    </tr>\n",
       "    <tr>\n",
       "      <th>121949</th>\n",
       "      <td>Zimbabwe</td>\n",
       "      <td>5441379.0</td>\n",
       "      <td>3117596.0</td>\n",
       "      <td>2323783.0</td>\n",
       "    </tr>\n",
       "    <tr>\n",
       "      <th>121950</th>\n",
       "      <td>Zimbabwe</td>\n",
       "      <td>5472485.0</td>\n",
       "      <td>3128598.0</td>\n",
       "      <td>2343887.0</td>\n",
       "    </tr>\n",
       "    <tr>\n",
       "      <th>121951</th>\n",
       "      <td>Zimbabwe</td>\n",
       "      <td>5499530.0</td>\n",
       "      <td>3140386.0</td>\n",
       "      <td>2359144.0</td>\n",
       "    </tr>\n",
       "    <tr>\n",
       "      <th>121952</th>\n",
       "      <td>Zimbabwe</td>\n",
       "      <td>5527583.0</td>\n",
       "      <td>3152617.0</td>\n",
       "      <td>2374966.0</td>\n",
       "    </tr>\n",
       "  </tbody>\n",
       "</table>\n",
       "<p>121953 rows × 4 columns</p>\n",
       "</div>"
      ],
      "text/plain": [
       "           location  total_vaccinations  people_vaccinated  \\\n",
       "0       Afghanistan                 0.0                0.0   \n",
       "1       Afghanistan                 0.0                0.0   \n",
       "2       Afghanistan                 0.0                0.0   \n",
       "3       Afghanistan                 0.0                0.0   \n",
       "4       Afghanistan                 0.0                0.0   \n",
       "...             ...                 ...                ...   \n",
       "121948     Zimbabwe           5424753.0          3111495.0   \n",
       "121949     Zimbabwe           5441379.0          3117596.0   \n",
       "121950     Zimbabwe           5472485.0          3128598.0   \n",
       "121951     Zimbabwe           5499530.0          3140386.0   \n",
       "121952     Zimbabwe           5527583.0          3152617.0   \n",
       "\n",
       "        people_fully_vaccinated  \n",
       "0                           0.0  \n",
       "1                           0.0  \n",
       "2                           0.0  \n",
       "3                           0.0  \n",
       "4                           0.0  \n",
       "...                         ...  \n",
       "121948                2313258.0  \n",
       "121949                2323783.0  \n",
       "121950                2343887.0  \n",
       "121951                2359144.0  \n",
       "121952                2374966.0  \n",
       "\n",
       "[121953 rows x 4 columns]"
      ]
     },
     "execution_count": 5,
     "metadata": {},
     "output_type": "execute_result"
    }
   ],
   "source": [
    "sub_df"
   ]
  },
  {
   "cell_type": "code",
   "execution_count": 6,
   "metadata": {},
   "outputs": [],
   "source": [
    "def fill_null_rows(idx, dataframe):\n",
    "    total_vaccinations = dataframe.at[idx, 'total_vaccinations']\n",
    "    people_vaccinated = dataframe.at[idx, 'people_vaccinated']\n",
    "    people_fully_vaccinated = dataframe.at[idx, 'people_fully_vaccinated']\n",
    "    \n",
    "    if dataframe.at[idx - 1, 'location'] == dataframe.at[idx, 'location']:\n",
    "        if total_vaccinations == 0:\n",
    "            dataframe.at[idx, 'total_vaccinations'] = dataframe.at[idx - 1, 'total_vaccinations']\n",
    "        if people_vaccinated == 0:\n",
    "            dataframe.at[idx, 'people_vaccinated'] = dataframe.at[idx - 1, 'people_vaccinated']\n",
    "        if people_fully_vaccinated == 0:\n",
    "            dataframe.at[idx, 'people_fully_vaccinated'] = dataframe.at[idx - 1, 'people_fully_vaccinated']"
   ]
  },
  {
   "cell_type": "code",
   "execution_count": 7,
   "metadata": {},
   "outputs": [],
   "source": [
    "for index, row in sub_df.iterrows():\n",
    "    if index == 0:\n",
    "        continue\n",
    "    fill_null_rows(index, sub_df)"
   ]
  },
  {
   "cell_type": "code",
   "execution_count": 8,
   "metadata": {},
   "outputs": [],
   "source": [
    "df[['location', 'total_vaccinations', 'people_vaccinated', 'people_fully_vaccinated']] = sub_df"
   ]
  },
  {
   "cell_type": "code",
   "execution_count": 9,
   "metadata": {},
   "outputs": [],
   "source": [
    "df.drop(df[df.location == 'International'].index, inplace=True)\n",
    "df.drop(df[df.location == 'Northern Cyprusn'].index, inplace=True)"
   ]
  },
  {
   "cell_type": "code",
   "execution_count": null,
   "metadata": {},
   "outputs": [],
   "source": [
    "df"
   ]
  },
  {
   "cell_type": "markdown",
   "metadata": {},
   "source": [
    "# 2."
   ]
  },
  {
   "cell_type": "code",
   "execution_count": 10,
   "metadata": {},
   "outputs": [],
   "source": [
    "df['total_cases_per_population'] = df['total_cases'] / df['population'] * 100\n",
    "df['total_deaths_per_population'] = df['total_deaths'] / df['population'] * 100\n",
    "df['people_fully_vaccinated_per_population'] = df['people_fully_vaccinated'] / df['population'] * 100"
   ]
  },
  {
   "cell_type": "code",
   "execution_count": 11,
   "metadata": {},
   "outputs": [
    {
     "data": {
      "text/html": [
       "<div>\n",
       "<style scoped>\n",
       "    .dataframe tbody tr th:only-of-type {\n",
       "        vertical-align: middle;\n",
       "    }\n",
       "\n",
       "    .dataframe tbody tr th {\n",
       "        vertical-align: top;\n",
       "    }\n",
       "\n",
       "    .dataframe thead th {\n",
       "        text-align: right;\n",
       "    }\n",
       "</style>\n",
       "<table border=\"1\" class=\"dataframe\">\n",
       "  <thead>\n",
       "    <tr style=\"text-align: right;\">\n",
       "      <th></th>\n",
       "      <th>continent</th>\n",
       "      <th>location</th>\n",
       "      <th>date</th>\n",
       "      <th>total_cases</th>\n",
       "      <th>total_deaths</th>\n",
       "      <th>total_vaccinations</th>\n",
       "      <th>people_vaccinated</th>\n",
       "      <th>people_fully_vaccinated</th>\n",
       "      <th>population</th>\n",
       "      <th>total_cases_per_population</th>\n",
       "      <th>total_deaths_per_population</th>\n",
       "      <th>people_fully_vaccinated_per_population</th>\n",
       "    </tr>\n",
       "  </thead>\n",
       "  <tbody>\n",
       "    <tr>\n",
       "      <th>0</th>\n",
       "      <td>Asia</td>\n",
       "      <td>Afghanistan</td>\n",
       "      <td>2/24/2020</td>\n",
       "      <td>5.0</td>\n",
       "      <td>NaN</td>\n",
       "      <td>0.0</td>\n",
       "      <td>0.0</td>\n",
       "      <td>0.0</td>\n",
       "      <td>39835428.0</td>\n",
       "      <td>0.000013</td>\n",
       "      <td>NaN</td>\n",
       "      <td>0.000000</td>\n",
       "    </tr>\n",
       "    <tr>\n",
       "      <th>1</th>\n",
       "      <td>Asia</td>\n",
       "      <td>Afghanistan</td>\n",
       "      <td>2/25/2020</td>\n",
       "      <td>5.0</td>\n",
       "      <td>NaN</td>\n",
       "      <td>0.0</td>\n",
       "      <td>0.0</td>\n",
       "      <td>0.0</td>\n",
       "      <td>39835428.0</td>\n",
       "      <td>0.000013</td>\n",
       "      <td>NaN</td>\n",
       "      <td>0.000000</td>\n",
       "    </tr>\n",
       "    <tr>\n",
       "      <th>2</th>\n",
       "      <td>Asia</td>\n",
       "      <td>Afghanistan</td>\n",
       "      <td>2/26/2020</td>\n",
       "      <td>5.0</td>\n",
       "      <td>NaN</td>\n",
       "      <td>0.0</td>\n",
       "      <td>0.0</td>\n",
       "      <td>0.0</td>\n",
       "      <td>39835428.0</td>\n",
       "      <td>0.000013</td>\n",
       "      <td>NaN</td>\n",
       "      <td>0.000000</td>\n",
       "    </tr>\n",
       "    <tr>\n",
       "      <th>3</th>\n",
       "      <td>Asia</td>\n",
       "      <td>Afghanistan</td>\n",
       "      <td>2/27/2020</td>\n",
       "      <td>5.0</td>\n",
       "      <td>NaN</td>\n",
       "      <td>0.0</td>\n",
       "      <td>0.0</td>\n",
       "      <td>0.0</td>\n",
       "      <td>39835428.0</td>\n",
       "      <td>0.000013</td>\n",
       "      <td>NaN</td>\n",
       "      <td>0.000000</td>\n",
       "    </tr>\n",
       "    <tr>\n",
       "      <th>4</th>\n",
       "      <td>Asia</td>\n",
       "      <td>Afghanistan</td>\n",
       "      <td>2/28/2020</td>\n",
       "      <td>5.0</td>\n",
       "      <td>NaN</td>\n",
       "      <td>0.0</td>\n",
       "      <td>0.0</td>\n",
       "      <td>0.0</td>\n",
       "      <td>39835428.0</td>\n",
       "      <td>0.000013</td>\n",
       "      <td>NaN</td>\n",
       "      <td>0.000000</td>\n",
       "    </tr>\n",
       "    <tr>\n",
       "      <th>...</th>\n",
       "      <td>...</td>\n",
       "      <td>...</td>\n",
       "      <td>...</td>\n",
       "      <td>...</td>\n",
       "      <td>...</td>\n",
       "      <td>...</td>\n",
       "      <td>...</td>\n",
       "      <td>...</td>\n",
       "      <td>...</td>\n",
       "      <td>...</td>\n",
       "      <td>...</td>\n",
       "      <td>...</td>\n",
       "    </tr>\n",
       "    <tr>\n",
       "      <th>121948</th>\n",
       "      <td>Africa</td>\n",
       "      <td>Zimbabwe</td>\n",
       "      <td>10/3/2021</td>\n",
       "      <td>131129.0</td>\n",
       "      <td>4627.0</td>\n",
       "      <td>5424753.0</td>\n",
       "      <td>3111495.0</td>\n",
       "      <td>2313258.0</td>\n",
       "      <td>15092171.0</td>\n",
       "      <td>0.868854</td>\n",
       "      <td>0.030658</td>\n",
       "      <td>15.327536</td>\n",
       "    </tr>\n",
       "    <tr>\n",
       "      <th>121949</th>\n",
       "      <td>Africa</td>\n",
       "      <td>Zimbabwe</td>\n",
       "      <td>10/4/2021</td>\n",
       "      <td>131129.0</td>\n",
       "      <td>4627.0</td>\n",
       "      <td>5441379.0</td>\n",
       "      <td>3117596.0</td>\n",
       "      <td>2323783.0</td>\n",
       "      <td>15092171.0</td>\n",
       "      <td>0.868854</td>\n",
       "      <td>0.030658</td>\n",
       "      <td>15.397275</td>\n",
       "    </tr>\n",
       "    <tr>\n",
       "      <th>121950</th>\n",
       "      <td>Africa</td>\n",
       "      <td>Zimbabwe</td>\n",
       "      <td>10/5/2021</td>\n",
       "      <td>131205.0</td>\n",
       "      <td>4627.0</td>\n",
       "      <td>5472485.0</td>\n",
       "      <td>3128598.0</td>\n",
       "      <td>2343887.0</td>\n",
       "      <td>15092171.0</td>\n",
       "      <td>0.869358</td>\n",
       "      <td>0.030658</td>\n",
       "      <td>15.530483</td>\n",
       "    </tr>\n",
       "    <tr>\n",
       "      <th>121951</th>\n",
       "      <td>Africa</td>\n",
       "      <td>Zimbabwe</td>\n",
       "      <td>10/6/2021</td>\n",
       "      <td>131434.0</td>\n",
       "      <td>4630.0</td>\n",
       "      <td>5499530.0</td>\n",
       "      <td>3140386.0</td>\n",
       "      <td>2359144.0</td>\n",
       "      <td>15092171.0</td>\n",
       "      <td>0.870875</td>\n",
       "      <td>0.030678</td>\n",
       "      <td>15.631575</td>\n",
       "    </tr>\n",
       "    <tr>\n",
       "      <th>121952</th>\n",
       "      <td>Africa</td>\n",
       "      <td>Zimbabwe</td>\n",
       "      <td>10/7/2021</td>\n",
       "      <td>131523.0</td>\n",
       "      <td>4631.0</td>\n",
       "      <td>5527583.0</td>\n",
       "      <td>3152617.0</td>\n",
       "      <td>2374966.0</td>\n",
       "      <td>15092171.0</td>\n",
       "      <td>0.871465</td>\n",
       "      <td>0.030685</td>\n",
       "      <td>15.736411</td>\n",
       "    </tr>\n",
       "  </tbody>\n",
       "</table>\n",
       "<p>121344 rows × 12 columns</p>\n",
       "</div>"
      ],
      "text/plain": [
       "       continent     location       date  total_cases  total_deaths  \\\n",
       "0           Asia  Afghanistan  2/24/2020          5.0           NaN   \n",
       "1           Asia  Afghanistan  2/25/2020          5.0           NaN   \n",
       "2           Asia  Afghanistan  2/26/2020          5.0           NaN   \n",
       "3           Asia  Afghanistan  2/27/2020          5.0           NaN   \n",
       "4           Asia  Afghanistan  2/28/2020          5.0           NaN   \n",
       "...          ...          ...        ...          ...           ...   \n",
       "121948    Africa     Zimbabwe  10/3/2021     131129.0        4627.0   \n",
       "121949    Africa     Zimbabwe  10/4/2021     131129.0        4627.0   \n",
       "121950    Africa     Zimbabwe  10/5/2021     131205.0        4627.0   \n",
       "121951    Africa     Zimbabwe  10/6/2021     131434.0        4630.0   \n",
       "121952    Africa     Zimbabwe  10/7/2021     131523.0        4631.0   \n",
       "\n",
       "        total_vaccinations  people_vaccinated  people_fully_vaccinated  \\\n",
       "0                      0.0                0.0                      0.0   \n",
       "1                      0.0                0.0                      0.0   \n",
       "2                      0.0                0.0                      0.0   \n",
       "3                      0.0                0.0                      0.0   \n",
       "4                      0.0                0.0                      0.0   \n",
       "...                    ...                ...                      ...   \n",
       "121948           5424753.0          3111495.0                2313258.0   \n",
       "121949           5441379.0          3117596.0                2323783.0   \n",
       "121950           5472485.0          3128598.0                2343887.0   \n",
       "121951           5499530.0          3140386.0                2359144.0   \n",
       "121952           5527583.0          3152617.0                2374966.0   \n",
       "\n",
       "        population  total_cases_per_population  total_deaths_per_population  \\\n",
       "0       39835428.0                    0.000013                          NaN   \n",
       "1       39835428.0                    0.000013                          NaN   \n",
       "2       39835428.0                    0.000013                          NaN   \n",
       "3       39835428.0                    0.000013                          NaN   \n",
       "4       39835428.0                    0.000013                          NaN   \n",
       "...            ...                         ...                          ...   \n",
       "121948  15092171.0                    0.868854                     0.030658   \n",
       "121949  15092171.0                    0.868854                     0.030658   \n",
       "121950  15092171.0                    0.869358                     0.030658   \n",
       "121951  15092171.0                    0.870875                     0.030678   \n",
       "121952  15092171.0                    0.871465                     0.030685   \n",
       "\n",
       "        people_fully_vaccinated_per_population  \n",
       "0                                     0.000000  \n",
       "1                                     0.000000  \n",
       "2                                     0.000000  \n",
       "3                                     0.000000  \n",
       "4                                     0.000000  \n",
       "...                                        ...  \n",
       "121948                               15.327536  \n",
       "121949                               15.397275  \n",
       "121950                               15.530483  \n",
       "121951                               15.631575  \n",
       "121952                               15.736411  \n",
       "\n",
       "[121344 rows x 12 columns]"
      ]
     },
     "execution_count": 11,
     "metadata": {},
     "output_type": "execute_result"
    }
   ],
   "source": [
    "df"
   ]
  },
  {
   "cell_type": "markdown",
   "metadata": {},
   "source": [
    "# 3."
   ]
  },
  {
   "cell_type": "code",
   "execution_count": 12,
   "metadata": {},
   "outputs": [
    {
     "data": {
      "text/plain": [
       "Ttest_relResult(statistic=94.76975023531915, pvalue=0.0)"
      ]
     },
     "execution_count": 12,
     "metadata": {},
     "output_type": "execute_result"
    }
   ],
   "source": [
    "t_test1 = ttest_rel(df['people_fully_vaccinated_per_population'], df['total_cases_per_population'], nan_policy='omit')\n",
    "t_test1"
   ]
  },
  {
   "cell_type": "code",
   "execution_count": 13,
   "metadata": {},
   "outputs": [
    {
     "data": {
      "text/plain": [
       "Ttest_relResult(statistic=126.869086229237, pvalue=0.0)"
      ]
     },
     "execution_count": 13,
     "metadata": {},
     "output_type": "execute_result"
    }
   ],
   "source": [
    "t_test2 = ttest_rel(df['people_fully_vaccinated_per_population'], df['total_deaths_per_population'], nan_policy='omit')\n",
    "t_test2"
   ]
  },
  {
   "cell_type": "code",
   "execution_count": 14,
   "metadata": {},
   "outputs": [
    {
     "data": {
      "text/plain": [
       "Ttest_relResult(statistic=21.899646208940485, pvalue=4.317476170238906e-106)"
      ]
     },
     "execution_count": 14,
     "metadata": {},
     "output_type": "execute_result"
    }
   ],
   "source": [
    "t_test3 = ttest_rel(df['people_fully_vaccinated'], df['total_cases'], nan_policy='omit')\n",
    "t_test3"
   ]
  },
  {
   "cell_type": "code",
   "execution_count": 15,
   "metadata": {},
   "outputs": [
    {
     "data": {
      "text/plain": [
       "Ttest_relResult(statistic=26.832460006156538, pvalue=4.6710467297468556e-158)"
      ]
     },
     "execution_count": 15,
     "metadata": {},
     "output_type": "execute_result"
    }
   ],
   "source": [
    "t_test4 = ttest_rel(df['people_fully_vaccinated'], df['total_deaths'], nan_policy='omit')\n",
    "t_test4"
   ]
  },
  {
   "cell_type": "markdown",
   "metadata": {},
   "source": [
    "# 4."
   ]
  },
  {
   "cell_type": "code",
   "execution_count": 16,
   "metadata": {},
   "outputs": [],
   "source": [
    "countries = df[~df['continent'].isnull()]['location'].unique()\n",
    "continents = df[df['continent'].isnull()]['location'].unique()"
   ]
  },
  {
   "cell_type": "markdown",
   "metadata": {},
   "source": [
    "### row1"
   ]
  },
  {
   "cell_type": "code",
   "execution_count": null,
   "metadata": {},
   "outputs": [],
   "source": [
    "fig, ax = plt.subplots()\n",
    "temp_df = df[df['location'] == countries[0]]\n",
    "\n",
    "ax.plot(temp_df['date'], temp_df['total_deaths_per_population'], color='red')\n",
    "ax.plot(temp_df['date'], temp_df['total_cases_per_population'], color='green')\n",
    "ax.plot(temp_df['date'], temp_df['people_fully_vaccinated_per_population'], color='blue')\n",
    "\n",
    "\n",
    "ax.get_xaxis().set_ticks([])\n",
    "ax.set(xlabel='Date', title=countries[0]);\n",
    "ax.legend([\"Total Deaths per population\", 'People Fully Vaccinated per population', \"Total Cases per population\"]);"
   ]
  },
  {
   "cell_type": "code",
   "execution_count": null,
   "metadata": {},
   "outputs": [],
   "source": [
    "for country in countries:\n",
    "    fig, ax = plt.subplots()\n",
    "    temp_df = df[df['location'] == country]\n",
    "    \n",
    "    ax.plot(temp_df['date'], temp_df['total_deaths_per_population'], color='red')\n",
    "    ax.plot(temp_df['date'], temp_df['total_cases_per_population'], color='green')\n",
    "    ax.plot(temp_df['date'], temp_df['people_fully_vaccinated_per_population'], color='blue')\n",
    "    \n",
    "    ax.get_xaxis().set_ticks([])\n",
    "    ax.set(xlabel='Date', title=country);\n",
    "    ax.legend([\"Total Deaths per population\", 'People Fully Vaccinated per population', \"Total Cases per population\"]);    \n",
    "    \n",
    "    fig.savefig(f'images/4/row1/{country}.png')\n",
    "    plt.close()\n"
   ]
  },
  {
   "cell_type": "markdown",
   "metadata": {},
   "source": [
    "### row2"
   ]
  },
  {
   "cell_type": "code",
   "execution_count": null,
   "metadata": {},
   "outputs": [],
   "source": [
    "fig, ax = plt.subplots()\n",
    "temp_df = df[df['location'] == countries[0]]\n",
    "\n",
    "ax.plot(temp_df['date'], temp_df['total_deaths'], color='red')\n",
    "ax.plot(temp_df['date'], temp_df['people_fully_vaccinated'], color='green')\n",
    "ax.plot(temp_df['date'], temp_df['total_cases'], color='blue')\n",
    "\n",
    "\n",
    "ax.get_xaxis().set_ticks([])\n",
    "ax.set(xlabel='Date', title=countries[0]);\n",
    "ax.legend([\"Total Deaths\", 'People Fully Vaccinated', \"Total Cases\"]);"
   ]
  },
  {
   "cell_type": "code",
   "execution_count": null,
   "metadata": {},
   "outputs": [],
   "source": [
    "for country in countries:\n",
    "    fig, ax = plt.subplots()\n",
    "    temp_df = df[df['location'] == country]\n",
    "\n",
    "    ax.plot(temp_df['date'], temp_df['total_deaths'], color='red')\n",
    "    ax.plot(temp_df['date'], temp_df['people_fully_vaccinated'], color='green')\n",
    "    ax.plot(temp_df['date'], temp_df['total_cases'], color='blue')\n",
    "\n",
    "\n",
    "    ax.get_xaxis().set_ticks([])\n",
    "    ax.set(xlabel='Date', title=country)\n",
    "    ax.legend([\"Total Deaths\", 'People Fully Vaccinated', \"Total Cases\"])\n",
    "    \n",
    "    fig.savefig(f'images/4/row2/{country}.png')\n",
    "    plt.close()"
   ]
  },
  {
   "cell_type": "markdown",
   "metadata": {},
   "source": [
    "### row3"
   ]
  },
  {
   "cell_type": "code",
   "execution_count": null,
   "metadata": {},
   "outputs": [],
   "source": [
    "fig, ax = plt.subplots()\n",
    "temp_df = df[df['location'] == countries[0]]\n",
    "\n",
    "ax.plot(temp_df['date'], temp_df['total_vaccinations'], color='red')\n",
    "ax.plot(temp_df['date'], temp_df['people_vaccinated'], color='green')\n",
    "ax.plot(temp_df['date'], temp_df['people_fully_vaccinated'], color='blue')\n",
    "\n",
    "\n",
    "ax.get_xaxis().set_ticks([])\n",
    "ax.set(xlabel='Date', title=countries[0])\n",
    "ax.legend([\"Total vaccinations\", \"People vaccinated\", 'People fully vaccinated']);"
   ]
  },
  {
   "cell_type": "code",
   "execution_count": null,
   "metadata": {
    "scrolled": false
   },
   "outputs": [],
   "source": [
    "for country in countries:\n",
    "    fig, ax = plt.subplots()\n",
    "    temp_df = df[df['location'] == country]\n",
    "\n",
    "    ax.plot(temp_df['date'], temp_df['total_vaccinations'], color='red')\n",
    "    ax.plot(temp_df['date'], temp_df['people_vaccinated'], color='green')\n",
    "    ax.plot(temp_df['date'], temp_df['people_fully_vaccinated'], color='blue')\n",
    "\n",
    "\n",
    "    ax.get_xaxis().set_ticks([])\n",
    "    ax.set(xlabel='Date', title=country)\n",
    "    ax.legend([\"Total vaccinations\", \"People vaccinated\", 'People fully vaccinated'])\n",
    "    \n",
    "    fig.savefig(f'images/4/row3/{country}.png')\n",
    "    plt.close()"
   ]
  },
  {
   "cell_type": "markdown",
   "metadata": {},
   "source": [
    "### row4"
   ]
  },
  {
   "cell_type": "code",
   "execution_count": null,
   "metadata": {},
   "outputs": [],
   "source": [
    "fig, ax = plt.subplots()\n",
    "temp_df = df[df['location'] == continents[0]]\n",
    "\n",
    "ax.plot(temp_df['date'], temp_df['total_vaccinations'], color='red')\n",
    "ax.plot(temp_df['date'], temp_df['people_vaccinated'], color='green')\n",
    "ax.plot(temp_df['date'], temp_df['people_fully_vaccinated'], color='blue')\n",
    "\n",
    "\n",
    "ax.get_xaxis().set_ticks([])\n",
    "ax.set(xlabel='Date', title=continents[0])\n",
    "ax.legend([\"Total vaccinations\", \"People vaccinated\", 'People fully vaccinated']);"
   ]
  },
  {
   "cell_type": "code",
   "execution_count": null,
   "metadata": {},
   "outputs": [],
   "source": [
    "for continent in continents:\n",
    "    fig, ax = plt.subplots()\n",
    "    temp_df = df[df['location'] == continent]\n",
    "\n",
    "    ax.plot(temp_df['date'], temp_df['total_vaccinations'], color='red')\n",
    "    ax.plot(temp_df['date'], temp_df['people_vaccinated'], color='green')\n",
    "    ax.plot(temp_df['date'], temp_df['people_fully_vaccinated'], color='blue')\n",
    "\n",
    "\n",
    "    ax.get_xaxis().set_ticks([])\n",
    "    ax.set(xlabel='Date', title=continent)\n",
    "    ax.legend([\"Total vaccinations\", \"People vaccinated\", 'People fully vaccinated'])\n",
    "    \n",
    "    fig.savefig(f'images/4/row4/{continent}.png')\n",
    "    plt.close()"
   ]
  },
  {
   "cell_type": "markdown",
   "metadata": {},
   "source": [
    "### row5"
   ]
  },
  {
   "cell_type": "code",
   "execution_count": null,
   "metadata": {},
   "outputs": [],
   "source": [
    "fig, ax = plt.subplots()\n",
    "temp_df = df[df['location'] == continents[0]]\n",
    "\n",
    "ax.plot(temp_df['date'], temp_df['total_deaths'], color='red')\n",
    "ax.plot(temp_df['date'], temp_df['people_fully_vaccinated'], color='green')\n",
    "ax.plot(temp_df['date'], temp_df['total_cases'], color='blue')\n",
    "\n",
    "\n",
    "ax.get_xaxis().set_ticks([])\n",
    "ax.set(xlabel='Date', title=continents[0])\n",
    "ax.legend([\"Total Deaths\", 'People Fully Vaccinated', \"Total Cases\"]);"
   ]
  },
  {
   "cell_type": "code",
   "execution_count": null,
   "metadata": {},
   "outputs": [],
   "source": [
    "for continent in continents:\n",
    "    fig, ax = plt.subplots()\n",
    "    temp_df = df[df['location'] == continent]\n",
    "\n",
    "    ax.plot(temp_df['date'], temp_df['total_deaths'], color='red')\n",
    "    ax.plot(temp_df['date'], temp_df['people_fully_vaccinated'], color='green')\n",
    "    ax.plot(temp_df['date'], temp_df['total_cases'], color='blue')\n",
    "\n",
    "\n",
    "    ax.get_xaxis().set_ticks([])\n",
    "    ax.set(xlabel='Date', title=continent)\n",
    "    ax.legend([\"Total Deaths\", 'People Fully Vaccinated', \"Total Cases\"])\n",
    "    \n",
    "    fig.savefig(f'images/4/row5/{continent}.png')\n",
    "    plt.close()"
   ]
  },
  {
   "cell_type": "markdown",
   "metadata": {},
   "source": [
    "# 5."
   ]
  },
  {
   "cell_type": "code",
   "execution_count": null,
   "metadata": {},
   "outputs": [],
   "source": [
    "fig, ax = plt.subplots()\n",
    "ax.scatter(df['people_fully_vaccinated'], df['total_cases'])\n",
    "ax.set(xlabel='people_fully_vaccinated', ylabel='total_cases')\n",
    "\n",
    "fig.savefig('images/5-1.png');"
   ]
  },
  {
   "cell_type": "code",
   "execution_count": null,
   "metadata": {},
   "outputs": [],
   "source": [
    "fig, ax = plt.subplots()\n",
    "ax.scatter(df['people_fully_vaccinated'], df['total_deaths'])\n",
    "ax.set(xlabel='people_fully_vaccinated', ylabel='total_deaths')\n",
    "\n",
    "fig.savefig('images/5-2.png');"
   ]
  },
  {
   "cell_type": "code",
   "execution_count": null,
   "metadata": {},
   "outputs": [],
   "source": [
    "fig, ax = plt.subplots()\n",
    "ax.scatter(df['total_vaccinations'], df['total_cases'])\n",
    "ax.set(xlabel='total_vaccinations', ylabel='total_cases')\n",
    "\n",
    "fig.savefig('images/5-3.png');"
   ]
  },
  {
   "cell_type": "code",
   "execution_count": null,
   "metadata": {},
   "outputs": [],
   "source": [
    "fig, ax = plt.subplots()\n",
    "ax.scatter(df['total_vaccinations'], df['total_deaths'])\n",
    "ax.set(xlabel='total_vaccinations', ylabel='total_deaths')\n",
    "\n",
    "fig.savefig('images/5-4.png');"
   ]
  },
  {
   "cell_type": "code",
   "execution_count": null,
   "metadata": {},
   "outputs": [],
   "source": [
    "fig, ax = plt.subplots()\n",
    "ax.scatter(df['total_vaccinations'], df['people_fully_vaccinated'])\n",
    "ax.set(xlabel='total_vaccinations', ylabel='people_fully_vaccinated')\n",
    "\n",
    "fig.savefig('images/5-5.png');"
   ]
  },
  {
   "cell_type": "code",
   "execution_count": null,
   "metadata": {},
   "outputs": [],
   "source": [
    "fig, ax = plt.subplots()\n",
    "ax.scatter(df['total_deaths'], df['total_cases'])\n",
    "ax.set(xlabel='total_deaths', ylabel='total_cases')\n",
    "\n",
    "fig.savefig('images/5-6.png');"
   ]
  },
  {
   "cell_type": "markdown",
   "metadata": {},
   "source": [
    "# Save Excel File"
   ]
  },
  {
   "cell_type": "code",
   "execution_count": null,
   "metadata": {},
   "outputs": [],
   "source": [
    "df.to_excel('result.xlsx', index=False)"
   ]
  },
  {
   "cell_type": "code",
   "execution_count": null,
   "metadata": {},
   "outputs": [],
   "source": []
  }
 ],
 "metadata": {
  "kernelspec": {
   "display_name": "Python 3 (ipykernel)",
   "language": "python",
   "name": "python3"
  },
  "language_info": {
   "codemirror_mode": {
    "name": "ipython",
    "version": 3
   },
   "file_extension": ".py",
   "mimetype": "text/x-python",
   "name": "python",
   "nbconvert_exporter": "python",
   "pygments_lexer": "ipython3",
   "version": "3.7.9"
  }
 },
 "nbformat": 4,
 "nbformat_minor": 4
}
